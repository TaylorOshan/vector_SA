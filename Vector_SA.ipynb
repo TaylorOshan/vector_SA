{
 "metadata": {
  "name": "",
  "signature": "sha256:195f4f44f4895ed506f7c32b02e1a8d4692f898c1079c25dd8deedc86445f6c4"
 },
 "nbformat": 3,
 "nbformat_minor": 0,
 "worksheets": [
  {
   "cells": [
    {
     "cell_type": "code",
     "collapsed": false,
     "input": [
      "from pysal.weights.spatial_lag import lag_spatial as slag\n",
      "from pysal.esda.moran import Moran\n",
      "import scipy.stats as stats\n",
      "import numpy as np\n",
      "w = pysal.open(pysal.examples.get_path(\"stl.gal\")).read()\n",
      "f = pysal.open(pysal.examples.get_path(\"stl_hom.txt\"))\n",
      "y = np.array(f.by_col['HR8893'])\n",
      "mi = Moran(y,  w)\n",
      "print \"%7.5f\" % mi.I\n",
      "\n"
     ],
     "language": "python",
     "metadata": {},
     "outputs": [
      {
       "output_type": "stream",
       "stream": "stdout",
       "text": [
        "0.24366\n"
       ]
      }
     ],
     "prompt_number": 18
    },
    {
     "cell_type": "code",
     "collapsed": false,
     "input": [
      "class BasicMoran:\n",
      "    \"\"\"Moran's I Global Autocorrelation Statistic\n",
      "    Parameters\n",
      "    ----------\n",
      "    y               : array\n",
      "                      variable measured across n spatial units\n",
      "    w               : W\n",
      "                      spatial weights instance\n",
      "    transformation  : string\n",
      "                      weights transformation,  default is row-standardized \"r\".\n",
      "                      Other options include \"B\": binary,  \"D\":\n",
      "                      doubly-standardized,  \"U\": untransformed\n",
      "                      (general weights), \"V\": variance-stabilizing.\n",
      "    Attributes\n",
      "    ----------\n",
      "    y            : array\n",
      "                   original variable\n",
      "    w            : W\n",
      "                   original w object\n",
      "    I            : float\n",
      "                   value of Moran's I\n",
      "    \"\"\"\n",
      "\n",
      "\n",
      "    def __init__(self, y, w, transformation=\"r\"):\n",
      "        #Y would become either origins or destination locations (x,y)   \n",
      "        self.y = y\n",
      "        w.transform = transformation\n",
      "        self.w = w #W is the definition of neighbors \n",
      "        self.__moments()\n",
      "        self.I = self.__calc(self.z)\n",
      "        \n",
      "                \n",
      "    #Calculates moments (first and second) needs to be updated to match math in the paper                \n",
      "    def __moments(self):\n",
      "        self.n = len(self.y)\n",
      "        y = self.y\n",
      "        z = y - y.mean()\n",
      "        self.z = z\n",
      "        self.z2ss = sum(z * z)\n",
      "        self.EI = -1. / (self.n - 1)\n",
      "        s1 = self.w.s1\n",
      "        s0 = self.w.s0\n",
      "        s2 = self.w.s2\n",
      "        s02 = s0 * s0\n",
      "\n",
      "    def __calc(self, z):\n",
      "        zl = slag(self.w, z) # calculate weighted attribute - look into slag and see whats going on\n",
      "        inum = sum(z * zl) #numerator of I, sum of weights times attribute at one location times attribute at another loc\n",
      "        return self.n / self.w.s0 * inum / self.z2ss #w.s0 is the sum of the weights, z2ss is the sum of squares of Zi\n",
      "\n",
      "def slag(w, y):\n",
      "    \"\"\"\n",
      "    Spatial lag operator. \n",
      "    If w is row standardized, returns the average of each observation's neighbors; \n",
      "    if not, returns the weighted sum of each observation's neighbors.\n",
      "    Parameters\n",
      "    ----------\n",
      "    w                   : W \n",
      "                          object\n",
      "    y                   : array\n",
      "                          numpy array with dimensionality conforming to w (see examples)\n",
      "    Returns\n",
      "    -------\n",
      "    wy                  : array\n",
      "                          array of numeric values for the spatial lag\n",
      "    \"\"\"\n",
      "    return w.sparse * y"
     ],
     "language": "python",
     "metadata": {},
     "outputs": [],
     "prompt_number": 5
    },
    {
     "cell_type": "code",
     "collapsed": false,
     "input": [
      "import pysal\n",
      "import numpy as np\n",
      "w = pysal.open(pysal.examples.get_path(\"stl.gal\")).read()\n",
      "f = pysal.open(pysal.examples.get_path(\"stl_hom.txt\"))\n",
      "y = np.array(f.by_col['HR8893'])\n",
      "mi = BasicMoran(y,  w)\n",
      "print \"%7.5f\" % mi.I"
     ],
     "language": "python",
     "metadata": {},
     "outputs": [
      {
       "output_type": "stream",
       "stream": "stdout",
       "text": [
        "0.24366\n"
       ]
      }
     ],
     "prompt_number": 6
    },
    {
     "cell_type": "code",
     "collapsed": false,
     "input": [
      "vecs_A = np.array([[1, 55, 60, 100, 500], [2, 60, 55, 105, 500], [3, 500, 55, 155, 500], [4, 505, 60, 160, 500], [5, 105, 950, 105, 500], [6, 155, 950, 155, 500]])"
     ],
     "language": "python",
     "metadata": {},
     "outputs": [],
     "prompt_number": 76
    },
    {
     "cell_type": "code",
     "collapsed": false,
     "input": [
      "class VecMoran:\n",
      "    \"\"\"Moran's I Global Autocorrelation Statistic\n",
      "    Parameters\n",
      "    ----------\n",
      "    y               : array\n",
      "                      variable measured across n spatial units\n",
      "    w               : W\n",
      "                      spatial weights instance\n",
      "    transformation  : string\n",
      "                      weights transformation,  default is row-standardized \"r\".\n",
      "                      Other options include \"B\": binary,  \"D\":\n",
      "                      doubly-standardized,  \"U\": untransformed\n",
      "                      (general weights), \"V\": variance-stabilizing.\n",
      "    Attributes\n",
      "    ----------\n",
      "    y            : array\n",
      "                   original variable\n",
      "    w            : W\n",
      "                   original w object\n",
      "    I            : float\n",
      "                   value of Moran's I\n",
      "    \"\"\"\n",
      "\n",
      "\n",
      "    def __init__(self, y, transformation=\"r\"):\n",
      "        #Y would become either origins or destination locations (x,y)   \n",
      "        self.y = y\n",
      "        \n",
      "        n = len(y)\n",
      "        xDbar = np.sum(vecs_A[:,1])/n\n",
      "        xObar = np.sum(vecs_A[:,2])/n\n",
      "        yDBar = np.sum(vecs_A[:,3])/n\n",
      "        yObar = np.sum(vecs_A[:,4])/n\n",
      "        u = (vecs_A[:,3] - vecs_A[:,1]) - (xDbar - xObar)\n",
      "        v = (vecs_A[:,4] - vecs_A[:,2]) - (yDbar - yObar)\n",
      "        z = np.outer(u, u) + np.outer(v,v)\n",
      "        wo = wO(vecs_A)\n",
      "        wd = wD(vecs_A)\n",
      "        IO = n / np.sum(wo) * np.sum(wo*z) / sum(u**2 +v**2)\n",
      "        ID = n / np.sum(wd) * np.sum(wd*z) / sum(u**2 +v**2)\n",
      "        print  IO,ID\n",
      "    \n"
     ],
     "language": "python",
     "metadata": {},
     "outputs": [],
     "prompt_number": 89
    },
    {
     "cell_type": "code",
     "collapsed": false,
     "input": [
      "print VecMoran(vecs_A)"
     ],
     "language": "python",
     "metadata": {},
     "outputs": [
      {
       "output_type": "stream",
       "stream": "stdout",
       "text": [
        "1.44450976226 nan\n",
        "<__main__.VecMoran instance at 0x108afc170>\n"
       ]
      }
     ],
     "prompt_number": 90
    },
    {
     "cell_type": "code",
     "collapsed": false,
     "input": [],
     "language": "python",
     "metadata": {},
     "outputs": [
      {
       "output_type": "stream",
       "stream": "stdout",
       "text": [
        "[[ 884  744  354  494 -246 -246]\n",
        " [ 744  629  264  379 -211 -211]\n",
        " [ 354  264  549  639  -51  -51]\n",
        " [ 494  379  639  754  -86  -86]\n",
        " [-246 -211  -51  -86   74   74]\n",
        " [-246 -211  -51  -86   74   74]]\n"
       ]
      }
     ],
     "prompt_number": 38
    },
    {
     "cell_type": "code",
     "collapsed": false,
     "input": [],
     "language": "python",
     "metadata": {},
     "outputs": [
      {
       "metadata": {},
       "output_type": "pyout",
       "prompt_number": 32,
       "text": [
        "78"
       ]
      }
     ],
     "prompt_number": 32
    },
    {
     "cell_type": "code",
     "collapsed": false,
     "input": [
      "-1.0/6-1.0"
     ],
     "language": "python",
     "metadata": {},
     "outputs": [
      {
       "metadata": {},
       "output_type": "pyout",
       "prompt_number": 41,
       "text": [
        "-1.1666666666666667"
       ]
      }
     ],
     "prompt_number": 41
    },
    {
     "cell_type": "code",
     "collapsed": false,
     "input": [
      "def wO(vectors): \n",
      "    wO = np.zeros((6,6))\n",
      "    for i in range(0,6):\n",
      "        for j in range(0,6):\n",
      "            if i !=j:\n",
      "                wO[i,j] = np.sqrt((vectors[j,1] - vectors[i, 1])**2 + (vectors[j, 2] - vectors[i, 2])**2)**-1.5\n",
      "            else:\n",
      "                wO[i,j] = 0\n",
      "    return wO\n",
      "\n",
      "print wO(vecs_A)"
     ],
     "language": "python",
     "metadata": {},
     "outputs": [
      {
       "output_type": "stream",
       "stream": "stdout",
       "text": [
        "[[  0.00000000e+00   5.31829590e-02   1.06516985e-04   1.04756560e-04\n",
        "    3.75740994e-05   3.73102890e-05]\n",
        " [  5.31829590e-02   0.00000000e+00   1.08348022e-04   1.06516985e-04\n",
        "    3.72771808e-05   3.70353225e-05]\n",
        " [  1.06516985e-04   1.08348022e-04   0.00000000e+00   5.31829590e-02\n",
        "    3.26812779e-05   3.36621172e-05]\n",
        " [  1.04756560e-04   1.06516985e-04   5.31829590e-02   0.00000000e+00\n",
        "    3.28086285e-05   3.38124470e-05]\n",
        " [  3.75740994e-05   3.72771808e-05   3.26812779e-05   3.28086285e-05\n",
        "    0.00000000e+00   2.82842712e-03]\n",
        " [  3.73102890e-05   3.70353225e-05   3.36621172e-05   3.38124470e-05\n",
        "    2.82842712e-03   0.00000000e+00]]\n"
       ]
      }
     ],
     "prompt_number": 87
    },
    {
     "cell_type": "code",
     "collapsed": false,
     "input": [
      "def wD(vectors): \n",
      "    wD = np.zeros((6,6))\n",
      "    for i in range(0,6):\n",
      "        for j in range(0,6):\n",
      "            if i != j:\n",
      "                wD[i,j] = np.sqrt((vectors[j,3] - vectors[i, 3])**2 + (vectors[j, 4] - vectors[i, 4])**2)**-1.5\n",
      "            else:\n",
      "                wD[i,j] = 0\n",
      "    return wD\n",
      "\n",
      "print wD(vecs_A)"
     ],
     "language": "python",
     "metadata": {},
     "outputs": [
      {
       "output_type": "stream",
       "stream": "stdout",
       "text": [
        "[[ 0.          0.08944272  0.00245164  0.00215166  0.08944272  0.00245164]\n",
        " [ 0.08944272  0.          0.00282843  0.00245164         inf  0.00282843]\n",
        " [ 0.00245164  0.00282843  0.          0.08944272  0.00282843         inf]\n",
        " [ 0.00215166  0.00245164  0.08944272  0.          0.00245164  0.08944272]\n",
        " [ 0.08944272         inf  0.00282843  0.00245164  0.          0.00282843]\n",
        " [ 0.00245164  0.00282843         inf  0.08944272  0.00282843  0.        ]]\n"
       ]
      },
      {
       "output_type": "stream",
       "stream": "stderr",
       "text": [
        "-c:6: RuntimeWarning: divide by zero encountered in double_scalars\n"
       ]
      }
     ],
     "prompt_number": 88
    },
    {
     "cell_type": "code",
     "collapsed": false,
     "input": [],
     "language": "python",
     "metadata": {},
     "outputs": [],
     "prompt_number": 82
    },
    {
     "cell_type": "code",
     "collapsed": false,
     "input": [],
     "language": "python",
     "metadata": {},
     "outputs": []
    }
   ],
   "metadata": {}
  }
 ]
}