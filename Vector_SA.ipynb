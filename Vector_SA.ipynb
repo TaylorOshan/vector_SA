{
 "cells": [
  {
   "cell_type": "code",
   "execution_count": 42,
   "metadata": {
    "collapsed": false
   },
   "outputs": [
    {
     "name": "stdout",
     "output_type": "stream",
     "text": [
      "0.24366\n"
     ]
    }
   ],
   "source": [
    "import pysal\n",
    "from pysal.weights.spatial_lag import lag_spatial as slag\n",
    "from pysal.esda.moran import Moran\n",
    "import scipy.stats as stats\n",
    "import scipy.spatial.distance as dist\n",
    "import numpy as np\n",
    "w = pysal.open(pysal.examples.get_path(\"stl.gal\")).read()\n",
    "f = pysal.open(pysal.examples.get_path(\"stl_hom.txt\"))\n",
    "y = np.array(f.by_col['HR8893'])\n",
    "mi = Moran(y,  w)\n",
    "print \"%7.5f\" % mi.I\n",
    "\n"
   ]
  },
  {
   "cell_type": "code",
   "execution_count": 3,
   "metadata": {
    "collapsed": false
   },
   "outputs": [],
   "source": [
    "class BasicMoran:\n",
    "    \"\"\"Moran's I Global Autocorrelation Statistic\n",
    "    Parameters\n",
    "    ----------\n",
    "    y               : array\n",
    "                      variable measured across n spatial units\n",
    "    w               : W\n",
    "                      spatial weights instance\n",
    "    transformation  : string\n",
    "                      weights transformation,  default is row-standardized \"r\".\n",
    "                      Other options include \"B\": binary,  \"D\":\n",
    "                      doubly-standardized,  \"U\": untransformed\n",
    "                      (general weights), \"V\": variance-stabilizing.\n",
    "    Attributes\n",
    "    ----------\n",
    "    y            : array\n",
    "                   original variable\n",
    "    w            : W\n",
    "                   original w object\n",
    "    I            : float\n",
    "                   value of Moran's I\n",
    "    \"\"\"\n",
    "\n",
    "\n",
    "    def __init__(self, y, w, transformation=\"r\"):\n",
    "        #Y would become either origins or destination locations (x,y)   \n",
    "        self.y = y\n",
    "        w.transform = transformation\n",
    "        self.w = w #W is the definition of neighbors \n",
    "        self.__moments()\n",
    "        self.I = self.__calc(self.z)\n",
    "        \n",
    "                \n",
    "    #Calculates moments (first and second) needs to be updated to match math in the paper                \n",
    "    def __moments(self):\n",
    "        self.n = len(self.y)\n",
    "        y = self.y\n",
    "        z = y - y.mean()\n",
    "        self.z = z\n",
    "        self.z2ss = sum(z * z)\n",
    "        self.EI = -1. / (self.n - 1)\n",
    "        s1 = self.w.s1\n",
    "        s0 = self.w.s0\n",
    "        s2 = self.w.s2\n",
    "        s02 = s0 * s0\n",
    "\n",
    "    def __calc(self, z):\n",
    "        zl = slag(self.w, z) # calculate weighted attribute - look into slag and see whats going on\n",
    "        inum = sum(z * zl) #numerator of I, sum of weights times attribute at one location times attribute at another loc\n",
    "        return self.n / self.w.s0 * inum / self.z2ss #w.s0 is the sum of the weights, z2ss is the sum of squares of Zi\n",
    "\n",
    "def slag(w, y):\n",
    "    \"\"\"\n",
    "    Spatial lag operator. \n",
    "    If w is row standardized, returns the average of each observation's neighbors; \n",
    "    if not, returns the weighted sum of each observation's neighbors.\n",
    "    Parameters\n",
    "    ----------\n",
    "    w                   : W \n",
    "                          object\n",
    "    y                   : array\n",
    "                          numpy array with dimensionality conforming to w (see examples)\n",
    "    Returns\n",
    "    -------\n",
    "    wy                  : array\n",
    "                          array of numeric values for the spatial lag\n",
    "    \"\"\"\n",
    "    return w.sparse * y"
   ]
  },
  {
   "cell_type": "code",
   "execution_count": 4,
   "metadata": {
    "collapsed": false
   },
   "outputs": [
    {
     "name": "stdout",
     "output_type": "stream",
     "text": [
      "0.24366\n"
     ]
    }
   ],
   "source": [
    "import pysal\n",
    "import numpy as np\n",
    "w = pysal.open(pysal.examples.get_path(\"stl.gal\")).read()\n",
    "f = pysal.open(pysal.examples.get_path(\"stl_hom.txt\"))\n",
    "y = np.array(f.by_col['HR8893'])\n",
    "mi = BasicMoran(y,  w)\n",
    "print \"%7.5f\" % mi.I"
   ]
  },
  {
   "cell_type": "code",
   "execution_count": 67,
   "metadata": {
    "collapsed": false
   },
   "outputs": [],
   "source": [
    "vecs_A = np.array([[1, 55, 60, 100, 500], [2, 60, 55, 105, 501], [3, 500, 55, 155, 500], [4, 505, 60, 160, 500], [5, 105, 950, 105, 500], [6, 155, 950, 155, 499]])"
   ]
  },
  {
   "cell_type": "code",
   "execution_count": 232,
   "metadata": {
    "collapsed": true
   },
   "outputs": [],
   "source": [
    "origins = np.array([vecs_A[:,1], vecs_A[:,2]]).transpose()"
   ]
  },
  {
   "cell_type": "code",
   "execution_count": 229,
   "metadata": {
    "collapsed": false
   },
   "outputs": [
    {
     "data": {
      "text/plain": [
       "array([[ 55,  60],\n",
       "       [ 60,  55],\n",
       "       [500,  55],\n",
       "       [505,  60],\n",
       "       [105, 950],\n",
       "       [155, 950]])"
      ]
     },
     "execution_count": 229,
     "metadata": {},
     "output_type": "execute_result"
    }
   ],
   "source": [
    "origins"
   ]
  },
  {
   "cell_type": "code",
   "execution_count": 223,
   "metadata": {
    "collapsed": false
   },
   "outputs": [
    {
     "data": {
      "text/plain": [
       "array([[  1,  55,  60, 100, 500],\n",
       "       [  2,  60,  55, 105, 501],\n",
       "       [  3, 500,  55, 155, 500],\n",
       "       [  4, 505,  60, 160, 500],\n",
       "       [  5, 105, 950, 105, 500],\n",
       "       [  6, 155, 950, 155, 499]])"
      ]
     },
     "execution_count": 223,
     "metadata": {},
     "output_type": "execute_result"
    }
   ],
   "source": [
    "vecs_A"
   ]
  },
  {
   "cell_type": "code",
   "execution_count": 230,
   "metadata": {
    "collapsed": true
   },
   "outputs": [],
   "source": [
    "dests = np.array([vecs_A[:,3], vecs_A[:,4]]).transpose()"
   ]
  },
  {
   "cell_type": "code",
   "execution_count": 231,
   "metadata": {
    "collapsed": false
   },
   "outputs": [
    {
     "data": {
      "text/plain": [
       "array([[100, 500],\n",
       "       [105, 501],\n",
       "       [155, 500],\n",
       "       [160, 500],\n",
       "       [105, 500],\n",
       "       [155, 499]])"
      ]
     },
     "execution_count": 231,
     "metadata": {},
     "output_type": "execute_result"
    }
   ],
   "source": [
    "dests"
   ]
  },
  {
   "cell_type": "code",
   "execution_count": 241,
   "metadata": {
    "collapsed": false
   },
   "outputs": [],
   "source": [
    "class VecMoran:\n",
    "    \"\"\"Moran's I Global Autocorrelation Statistic\n",
    "    Parameters\n",
    "    ----------\n",
    "    y               : array\n",
    "                      variable measured across n spatial units\n",
    "    w               : W\n",
    "                      spatial weights instance\n",
    "    transformation  : string\n",
    "                      weights transformation,  default is row-standardized \"r\".\n",
    "                      Other options include \"B\": binary,  \"D\":\n",
    "                      doubly-standardized,  \"U\": untransformed\n",
    "                      (general weights), \"V\": variance-stabilizing.\n",
    "    Attributes\n",
    "    ----------\n",
    "    y            : array\n",
    "                   original variable\n",
    "    w            : W\n",
    "                   original w object\n",
    "    I            : float\n",
    "                   value of Moran's I\n",
    "    \"\"\"\n",
    "\n",
    "\n",
    "    def __init__(self, origins, destinations, transformation=\"r\"):\n",
    "        #Y would become either origins or destination locations (x,y)   \n",
    "        self.origins = origins\n",
    "        self.dests = destinations\n",
    "        \n",
    "        self.n = len(origins)\n",
    "        xObar = self.origins[:,0].mean()\n",
    "        yObar = self.origins[:,1].mean()\n",
    "        xDbar = self.dests[:,0].mean()\n",
    "        yDbar = self.dests[:,1].mean()\n",
    "        u = (y[:,3] - y[:,1]) - (xDbar - xObar)\n",
    "        v = (y[:,4] - y[:,2]) - (yDbar - yObar)\n",
    "        z = np.outer(u, u) + np.outer(v,v)\n",
    "        wo = self.wO(vectors = y)\n",
    "        wd = self.wD(vectors = y)\n",
    "        \n",
    "        self.IO = n / np.sum(wo) * np.sum(wo*z) / sum(u**2 +v**2)\n",
    "        self.ID = n / np.sum(wd) * np.sum(wd*z) / sum(u**2 +v**2)\n",
    "        \n",
    "        #print IO, ID, u, v, z\n",
    "    \n",
    "    #def __moments(self):\n",
    "    #    zO = self.dests - self.dests.mean()\n",
    "    #    zD = self.origins - self.origins.mean()\n",
    "    #    self.zO = zO\n",
    "    #    self.zD = zD\n",
    "    #    self.zO2ss = sum(zO * zO)\n",
    "    #    self.zD2ss = sum(\n",
    "    #    self.EI = -1. / (self.n - 1)\n",
    "    #    s1 = self.w.s1\n",
    "    #    s0 = self.w.s0\n",
    "    #    s2 = self.w.s2\n",
    "    #    s02 = s0 * s0\n",
    "\n",
    "        \n",
    "    def wO(self, vectors, beta = -1.5): \n",
    "        if vectors == None:\n",
    "            vectors = self.y\n",
    "        origin_W = dist.squareform(dist.pdist(vectors[:,1:3])) ** (beta)\n",
    "        np.fill_diagonal(origin_W, 0)\n",
    "        return origin_W\n",
    "    \n",
    "    def wD(self, vectors, beta = -1.5):\n",
    "        dest_W = dist.squareform(dist.pdist(vectors[:,3:5])) ** (beta)\n",
    "        np.fill_diagonal(dest_W, 0)\n",
    "        return dest_W\n",
    "        "
   ]
  },
  {
   "cell_type": "code",
   "execution_count": 234,
   "metadata": {
    "collapsed": false
   },
   "outputs": [
    {
     "name": "stderr",
     "output_type": "stream",
     "text": [
      "/home/ljw/dev/ipython/IPython/kernel/__main__.py:60: RuntimeWarning: divide by zero encountered in power\n",
      "/home/ljw/dev/ipython/IPython/kernel/__main__.py:65: RuntimeWarning: divide by zero encountered in power\n"
     ]
    }
   ],
   "source": [
    "V = VecMoran(origins, dests)"
   ]
  },
  {
   "cell_type": "code",
   "execution_count": 237,
   "metadata": {
    "collapsed": false
   },
   "outputs": [],
   "source": [
    "import pysal as ps"
   ]
  },
  {
   "cell_type": "code",
   "execution_count": 240,
   "metadata": {
    "collapsed": false
   },
   "outputs": [],
   "source": []
  },
  {
   "cell_type": "code",
   "execution_count": 236,
   "metadata": {
    "collapsed": false
   },
   "outputs": [
    {
     "data": {
      "text/plain": [
       "0.64594459436702134"
      ]
     },
     "execution_count": 236,
     "metadata": {},
     "output_type": "execute_result"
    }
   ],
   "source": [
    "V.IO"
   ]
  },
  {
   "cell_type": "code",
   "execution_count": 212,
   "metadata": {
    "collapsed": false
   },
   "outputs": [
    {
     "data": {
      "text/plain": [
       "230.0"
      ]
     },
     "execution_count": 212,
     "metadata": {},
     "output_type": "execute_result"
    }
   ],
   "source": [
    "vecs_A[:,1].mean()"
   ]
  },
  {
   "cell_type": "code",
   "execution_count": 95,
   "metadata": {
    "collapsed": false
   },
   "outputs": [
    {
     "name": "stderr",
     "output_type": "stream",
     "text": [
      "/home/ljw/dev/ipython/IPython/kernel/__main__.py:2: RuntimeWarning: divide by zero encountered in power\n",
      "  from IPython.kernel.zmq import kernelapp as app\n",
      "/home/ljw/dev/ipython/IPython/kernel/__main__.py:40: RuntimeWarning: invalid value encountered in double_scalars\n",
      "/home/ljw/dev/ipython/IPython/kernel/__main__.py:41: RuntimeWarning: invalid value encountered in double_scalars\n"
     ]
    }
   ],
   "source": [
    "V= VecMoran(vecs_A)"
   ]
  },
  {
   "cell_type": "code",
   "execution_count": 99,
   "metadata": {
    "collapsed": false
   },
   "outputs": [
    {
     "data": {
      "text/plain": [
       "nan"
      ]
     },
     "execution_count": 99,
     "metadata": {},
     "output_type": "execute_result"
    }
   ],
   "source": [
    "V.IO"
   ]
  },
  {
   "cell_type": "code",
   "execution_count": 72,
   "metadata": {
    "collapsed": false
   },
   "outputs": [
    {
     "name": "stderr",
     "output_type": "stream",
     "text": [
      "/home/ljw/dev/ipython/IPython/kernel/__main__.py:2: RuntimeWarning: divide by zero encountered in power\n",
      "  from IPython.kernel.zmq import kernelapp as app\n"
     ]
    }
   ],
   "source": [
    "q = wO(vecs_A)"
   ]
  },
  {
   "cell_type": "code",
   "execution_count": 74,
   "metadata": {
    "collapsed": true
   },
   "outputs": [],
   "source": [
    "y = vecs_A"
   ]
  },
  {
   "cell_type": "code",
   "execution_count": 77,
   "metadata": {
    "collapsed": true
   },
   "outputs": [],
   "source": [
    "n = len(y)\n",
    "xDbar = np.sum(y[:,1])/n\n",
    "xObar = np.sum(y[:,2])/n\n",
    "yDbar = np.sum(y[:,3])/n\n",
    "yObar = np.sum(y[:,4])/n"
   ]
  },
  {
   "cell_type": "code",
   "execution_count": 78,
   "metadata": {
    "collapsed": false
   },
   "outputs": [],
   "source": [
    "u = (y[:,3] - y[:,1]) - (xDbar - xObar)\n",
    "v = (y[:,4] - y[:,2]) - (yDbar - yObar)\n",
    "z = np.outer(u, u) + np.outer(v,v)"
   ]
  },
  {
   "cell_type": "code",
   "execution_count": 81,
   "metadata": {
    "collapsed": false
   },
   "outputs": [
    {
     "data": {
      "text/plain": [
       "array([[ inf,  inf,  inf,  inf, -inf, -inf],\n",
       "       [ inf,  inf,  inf,  inf, -inf, -inf],\n",
       "       [ inf,  inf,  inf,  inf, -inf, -inf],\n",
       "       [ inf,  inf,  inf,  inf, -inf, -inf],\n",
       "       [-inf, -inf, -inf, -inf,  inf,  inf],\n",
       "       [-inf, -inf, -inf, -inf,  inf,  inf]])"
      ]
     },
     "execution_count": 81,
     "metadata": {},
     "output_type": "execute_result"
    }
   ],
   "source": [
    "np.dot(q, z)"
   ]
  },
  {
   "cell_type": "code",
   "execution_count": 32,
   "metadata": {
    "collapsed": false
   },
   "outputs": [
    {
     "name": "stdout",
     "output_type": "stream",
     "text": [
      "1.43511974822 nan [ 170  170 -220 -220  125  125] [810 815 815 810 -80 -80] [[685000 689050 622750 618700 -43550 -43550]\n",
      " [689050 693125 626825 622750 -43950 -43950]\n",
      " [622750 626825 712625 708550 -92700 -92700]\n",
      " [618700 622750 708550 704500 -92300 -92300]\n",
      " [-43550 -43950 -92700 -92300  22025  22025]\n",
      " [-43550 -43950 -92700 -92300  22025  22025]]\n",
      "<__main__.VecMoran instance at 0x7febca67f4d0>\n"
     ]
    },
    {
     "name": "stderr",
     "output_type": "stream",
     "text": [
      "/home/ljw/dev/ipython/IPython/kernel/__main__.py:6: RuntimeWarning: divide by zero encountered in double_scalars\n",
      "/home/ljw/dev/ipython/IPython/kernel/__main__.py:40: RuntimeWarning: invalid value encountered in double_scalars\n"
     ]
    }
   ],
   "source": [
    "print VecMoran(vecs_A)"
   ]
  },
  {
   "cell_type": "code",
   "execution_count": null,
   "metadata": {
    "collapsed": false
   },
   "outputs": [],
   "source": []
  },
  {
   "cell_type": "code",
   "execution_count": null,
   "metadata": {
    "collapsed": false
   },
   "outputs": [],
   "source": []
  },
  {
   "cell_type": "code",
   "execution_count": 20,
   "metadata": {
    "collapsed": false
   },
   "outputs": [
    {
     "data": {
      "text/plain": [
       "-1.1666666666666667"
      ]
     },
     "execution_count": 20,
     "metadata": {},
     "output_type": "execute_result"
    }
   ],
   "source": [
    "-1.0/6-1.0"
   ]
  },
  {
   "cell_type": "code",
   "execution_count": 66,
   "metadata": {
    "collapsed": false
   },
   "outputs": [
    {
     "data": {
      "text/plain": [
       "array([[  1,  55,  60, 100, 500],\n",
       "       [  2,  60,  55, 105, 500],\n",
       "       [  3, 500,  55, 155, 500],\n",
       "       [  4, 505,  60, 160, 500],\n",
       "       [  5, 105, 950, 105, 500],\n",
       "       [  6, 155, 950, 155, 500]])"
      ]
     },
     "execution_count": 66,
     "metadata": {},
     "output_type": "execute_result"
    }
   ],
   "source": [
    "vecs_A"
   ]
  },
  {
   "cell_type": "code",
   "execution_count": 68,
   "metadata": {
    "collapsed": false
   },
   "outputs": [],
   "source": [
    "def wO(vectors): \n",
    "    origin_W = dist.squareform(dist.pdist(vectors[:,1:3])) ** (-1.5)\n",
    "    d0 = np.diag("
   ]
  },
  {
   "cell_type": "code",
   "execution_count": 87,
   "metadata": {
    "collapsed": false
   },
   "outputs": [
    {
     "data": {
      "text/plain": [
       "array([[ 1.,  0.,  0.,  0.,  0.,  0.],\n",
       "       [ 0.,  1.,  0.,  0.,  0.,  0.],\n",
       "       [ 0.,  0.,  1.,  0.,  0.,  0.],\n",
       "       [ 0.,  0.,  0.,  1.,  0.,  0.],\n",
       "       [ 0.,  0.,  0.,  0.,  1.,  0.],\n",
       "       [ 0.,  0.,  0.,  0.,  0.,  1.]])"
      ]
     },
     "execution_count": 87,
     "metadata": {},
     "output_type": "execute_result"
    }
   ],
   "source": [
    "np.ones((6,6)) * np.diag([1]*len(vecs_A))"
   ]
  },
  {
   "cell_type": "code",
   "execution_count": 71,
   "metadata": {
    "collapsed": false
   },
   "outputs": [
    {
     "name": "stdout",
     "output_type": "stream",
     "text": [
      "[[             inf   5.31829590e-02   1.06516985e-04   1.04756560e-04\n",
      "    3.75740994e-05   3.73102890e-05]\n",
      " [  5.31829590e-02              inf   1.08348022e-04   1.06516985e-04\n",
      "    3.72771808e-05   3.70353225e-05]\n",
      " [  1.06516985e-04   1.08348022e-04              inf   5.31829590e-02\n",
      "    3.26812779e-05   3.36621172e-05]\n",
      " [  1.04756560e-04   1.06516985e-04   5.31829590e-02              inf\n",
      "    3.28086285e-05   3.38124470e-05]\n",
      " [  3.75740994e-05   3.72771808e-05   3.26812779e-05   3.28086285e-05\n",
      "               inf   2.82842712e-03]\n",
      " [  3.73102890e-05   3.70353225e-05   3.36621172e-05   3.38124470e-05\n",
      "    2.82842712e-03              inf]]\n"
     ]
    },
    {
     "name": "stderr",
     "output_type": "stream",
     "text": [
      "/home/ljw/dev/ipython/IPython/kernel/__main__.py:2: RuntimeWarning: divide by zero encountered in power\n",
      "  from IPython.kernel.zmq import kernelapp as app\n"
     ]
    }
   ],
   "source": [
    "print wO(vecs_A)"
   ]
  },
  {
   "cell_type": "code",
   "execution_count": 69,
   "metadata": {
    "collapsed": false
   },
   "outputs": [],
   "source": [
    "def wD(vectors):\n",
    "    return dist.squareform(dist.pdist(vectors[:,3:5])) ** (-1.5)"
   ]
  },
  {
   "cell_type": "code",
   "execution_count": 70,
   "metadata": {
    "collapsed": false
   },
   "outputs": [
    {
     "name": "stdout",
     "output_type": "stream",
     "text": [
      "[[        inf  0.08685003  0.00245164  0.00215166  0.08944272  0.00245103]\n",
      " [ 0.08685003         inf  0.00282758  0.00245103  1.          0.00282504]\n",
      " [ 0.00245164  0.00282758         inf  0.08944272  0.00282843  1.        ]\n",
      " [ 0.00215166  0.00245103  0.08944272         inf  0.00245164  0.08685003]\n",
      " [ 0.08944272  1.          0.00282843  0.00245164         inf  0.00282758]\n",
      " [ 0.00245103  0.00282504  1.          0.08685003  0.00282758         inf]]\n"
     ]
    },
    {
     "name": "stderr",
     "output_type": "stream",
     "text": [
      "/home/ljw/dev/ipython/IPython/kernel/__main__.py:2: RuntimeWarning: divide by zero encountered in power\n",
      "  from IPython.kernel.zmq import kernelapp as app\n"
     ]
    }
   ],
   "source": [
    "print wD(vecs_A)"
   ]
  },
  {
   "cell_type": "code",
   "execution_count": 50,
   "metadata": {
    "collapsed": false
   },
   "outputs": [
    {
     "data": {
      "text/plain": [
       "array([[  0.,   5.,  55.,  60.,   5.,  55.],\n",
       "       [  5.,   0.,  50.,  55.,   0.,  50.],\n",
       "       [ 55.,  50.,   0.,   5.,  50.,   0.],\n",
       "       [ 60.,  55.,   5.,   0.,  55.,   5.],\n",
       "       [  5.,   0.,  50.,  55.,   0.,  50.],\n",
       "       [ 55.,  50.,   0.,   5.,  50.,   0.]])"
      ]
     },
     "execution_count": 50,
     "metadata": {},
     "output_type": "execute_result"
    }
   ],
   "source": [
    "dist.squareform(dist.pdist(vecs_A[:, 3:5]))"
   ]
  },
  {
   "cell_type": "code",
   "execution_count": 59,
   "metadata": {
    "collapsed": false
   },
   "outputs": [
    {
     "data": {
      "text/plain": [
       "(6, 5)"
      ]
     },
     "execution_count": 59,
     "metadata": {},
     "output_type": "execute_result"
    }
   ],
   "source": [
    "vecs_A.shape"
   ]
  },
  {
   "cell_type": "code",
   "execution_count": null,
   "metadata": {
    "collapsed": true
   },
   "outputs": [],
   "source": []
  }
 ],
 "metadata": {
  "kernelspec": {
   "display_name": "Python 2",
   "language": "python",
   "name": "python2"
  },
  "language_info": {
   "codemirror_mode": {
    "name": "ipython",
    "version": 2
   },
   "file_extension": ".py",
   "mimetype": "text/x-python",
   "name": "python",
   "nbconvert_exporter": "python",
   "pygments_lexer": "ipython2",
   "version": "2.7.9"
  }
 },
 "nbformat": 4,
 "nbformat_minor": 0
}
